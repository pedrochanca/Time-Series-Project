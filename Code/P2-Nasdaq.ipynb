{
 "cells": [
  {
   "cell_type": "markdown",
   "metadata": {},
   "source": [
    "# File Description\n",
    "The file \"2015-2019 Nasdaq.txt\" contains the date, open, high, low, closing, adjusted close and volume values of the Nasdaq composite index from 02/01/2015 to 30/12/2019.\n",
    "\n",
    "# Main Goal\n",
    "\n",
    "1. Calculate the time series of log-returns associated to the daily closing values of the Nasdaq composite index.\n",
    "\n",
    "2. Fit the best GARCH-type model to the time series of log-returns. Discuss your model fitting in a step-by-step fashion.\n"
   ]
  },
  {
   "cell_type": "markdown",
   "metadata": {},
   "source": [
    "# 1. Libraries"
   ]
  },
  {
   "cell_type": "code",
   "execution_count": null,
   "metadata": {},
   "outputs": [],
   "source": [
    "library(readr)\n",
    "library(forecast)\n",
    "library(fpp)\n",
    "library(tseries)\n",
    "library(fGarch)\n",
    "library(repr)\n",
    "library(car)"
   ]
  },
  {
   "cell_type": "code",
   "execution_count": null,
   "metadata": {},
   "outputs": [],
   "source": [
    "options(repr.plot.width = 6,repr.plot.height = 4)"
   ]
  },
  {
   "cell_type": "markdown",
   "metadata": {},
   "source": [
    "# 2. Import dataset"
   ]
  },
  {
   "cell_type": "code",
   "execution_count": null,
   "metadata": {},
   "outputs": [],
   "source": [
    "df <- read_csv(\"2015-2019 Nasdaq.txt\")"
   ]
  },
  {
   "cell_type": "markdown",
   "metadata": {},
   "source": [
    "# 3. Exploratory Data Analysis"
   ]
  },
  {
   "cell_type": "markdown",
   "metadata": {},
   "source": [
    "## 3.1 Initial Analysis"
   ]
  },
  {
   "cell_type": "code",
   "execution_count": null,
   "metadata": {},
   "outputs": [],
   "source": [
    "summary(df)"
   ]
  },
  {
   "cell_type": "code",
   "execution_count": null,
   "metadata": {},
   "outputs": [],
   "source": [
    "#Class Check\n",
    "class(df)"
   ]
  },
  {
   "cell_type": "code",
   "execution_count": null,
   "metadata": {},
   "outputs": [],
   "source": [
    "#Head and Tail\n",
    "head(df)\n",
    "tail(df)"
   ]
  },
  {
   "cell_type": "code",
   "execution_count": null,
   "metadata": {},
   "outputs": [],
   "source": [
    "#Number of rows\n",
    "nrow(df)"
   ]
  },
  {
   "cell_type": "code",
   "execution_count": null,
   "metadata": {},
   "outputs": [],
   "source": [
    "#Checking for NAs\n",
    "any(is.na(df))"
   ]
  },
  {
   "cell_type": "code",
   "execution_count": null,
   "metadata": {},
   "outputs": [],
   "source": [
    "#Number of NAs\n",
    "sum(is.na(df))"
   ]
  },
  {
   "cell_type": "code",
   "execution_count": null,
   "metadata": {},
   "outputs": [],
   "source": [
    "df"
   ]
  },
  {
   "cell_type": "markdown",
   "metadata": {},
   "source": [
    "## 3.2 Creating the log-return\n",
    "\n",
    "- The log return was created using the close values."
   ]
  },
  {
   "cell_type": "code",
   "execution_count": null,
   "metadata": {},
   "outputs": [],
   "source": [
    "df.log_returns <- diff(log(df$Close), lag=1)"
   ]
  },
  {
   "cell_type": "code",
   "execution_count": null,
   "metadata": {
    "scrolled": false
   },
   "outputs": [],
   "source": [
    "ts.log_returns <- ts(df.log_returns, start=c(2015, 55), frequency=252) #number of trading days per year = 252"
   ]
  },
  {
   "cell_type": "code",
   "execution_count": null,
   "metadata": {},
   "outputs": [],
   "source": [
    "plot.ts(ts.log_returns, xlab=\"Date\", ylab=\"Log Returns\")"
   ]
  },
  {
   "cell_type": "markdown",
   "metadata": {},
   "source": [
    "## 3.3 Differencing\n",
    "\n",
    "- It will be tested if there is a need for ARIMA differencing and SEASONAL differencing by using forecast library.\n",
    "\n",
    "- ARIMA differencing function: https://www.rdocumentation.org/packages/forecast/versions/8.12/topics/ndiffs \n",
    "\n",
    "- SEASONAL differencing function: https://www.rdocumentation.org/packages/forecast/versions/8.12/topics/nsdiffs "
   ]
  },
  {
   "cell_type": "code",
   "execution_count": null,
   "metadata": {},
   "outputs": [],
   "source": [
    "ndiffs(ts.log_returns) \n",
    "nsdiffs(ts.log_returns)"
   ]
  },
  {
   "cell_type": "markdown",
   "metadata": {},
   "source": [
    "# 3.4 Log-Returns  Analysis"
   ]
  },
  {
   "cell_type": "markdown",
   "metadata": {},
   "source": [
    "### 3.4.1 Mean and Variance"
   ]
  },
  {
   "cell_type": "code",
   "execution_count": null,
   "metadata": {},
   "outputs": [],
   "source": [
    "mean(ts.log_returns)"
   ]
  },
  {
   "cell_type": "code",
   "execution_count": null,
   "metadata": {},
   "outputs": [],
   "source": [
    "var(ts.log_returns)"
   ]
  },
  {
   "cell_type": "markdown",
   "metadata": {},
   "source": [
    "### 3.4.2 ACF and PACF\n",
    "\n",
    "- Below are plotted the ACF and PACF of the log returns time series.\n",
    "\n",
    "- Plus, ACF and PACF of the squared and absolute log returns.\n"
   ]
  },
  {
   "cell_type": "code",
   "execution_count": null,
   "metadata": {
    "scrolled": true
   },
   "outputs": [],
   "source": [
    "#ACF of Log_returns\n",
    "Acf(ts.log_returns, lag.max=40, main=\"ACF Log Returns\")\n",
    "#ACF of Log_returns^2\n",
    "Acf((ts.log_returns)^2, lag.max=40, main=\"ACF Squared Log Returns\")\n",
    "#ACF of absolute Log_returns\n",
    "Acf(abs(ts.log_returns), lag.max=40, main=\"ACF Absolute Log Returns\")\n",
    "#PACF of Log_returns\n",
    "Pacf(ts.log_returns, lag.max=40, main=\"PACF Log Returns\", ylab=\"PACF\")\n",
    "#ACF of Log_returns^2\n",
    "Pacf((ts.log_returns)^2, lag.max=40, main=\"PACF Squared Log Returns\", ylab=\"PACF\")\n",
    "#ACF of absolute Log_returns\n",
    "Pacf(abs(ts.log_returns), lag.max=40, main=\"PACF Absolute Log Returns\", ylab=\"PACF\")"
   ]
  },
  {
   "cell_type": "markdown",
   "metadata": {},
   "source": [
    "### 3.4.3 Independence of the Log-Returns\n",
    "\n",
    "- Box.test function: https://www.rdocumentation.org/packages/stats/versions/3.6.2/topics/Box.test"
   ]
  },
  {
   "cell_type": "code",
   "execution_count": null,
   "metadata": {},
   "outputs": [],
   "source": [
    "Box.test(ts.log_returns,lag=7,type='Ljung')\n",
    "\n",
    "#As we can not reject the null hypothesis (independence), we assume there is no serial dependence. \n",
    "#So we can now test if variance is constant or not."
   ]
  },
  {
   "cell_type": "code",
   "execution_count": null,
   "metadata": {},
   "outputs": [],
   "source": [
    "srr.log_returns=(ts.log_returns-mean(ts.log_returns))^2 #standardized squared residuals of log-returns\n",
    "Box.test(srr.log_returns,lag=7,type='Ljung')\n",
    "\n",
    "#It shows we can reject the null hypothesis (independence) on variance, so it has significant serial correlation.\n",
    "#Therefore, there is an ARCH effect."
   ]
  },
  {
   "cell_type": "markdown",
   "metadata": {},
   "source": [
    "#### 3.4.4 ARIMA-type model fit\n",
    "- auto_arima function: https://www.rdocumentation.org/packages/forecast/versions/8.12/topics/auto.arima"
   ]
  },
  {
   "cell_type": "code",
   "execution_count": null,
   "metadata": {},
   "outputs": [],
   "source": [
    "model.arima <- auto.arima(ts.log_returns, seasonal=TRUE , allowmean=TRUE, approximation=TRUE,  stepwise=TRUE)"
   ]
  },
  {
   "cell_type": "code",
   "execution_count": null,
   "metadata": {},
   "outputs": [],
   "source": [
    "print('-------------------------')\n",
    "summary(model.arima)\n",
    "print('-------------------------')\n",
    "coeftest(model.arima)\n",
    "print('-------------------------')"
   ]
  },
  {
   "cell_type": "markdown",
   "metadata": {},
   "source": [
    "# 4. GARCH-type model fit\n",
    "\n",
    "- garchFit function: https://www.rdocumentation.org/packages/fGarch/versions/3042.83.2/topics/garchFit"
   ]
  },
  {
   "cell_type": "markdown",
   "metadata": {},
   "source": [
    "## 4.1 ARCH Model"
   ]
  },
  {
   "cell_type": "code",
   "execution_count": null,
   "metadata": {},
   "outputs": [],
   "source": [
    "m_arch<-garchFit(~garch(1,0), ts.log_returns, trace=FALSE, cond.dist=\"std\", include.delta=FALSE)"
   ]
  },
  {
   "cell_type": "code",
   "execution_count": null,
   "metadata": {},
   "outputs": [],
   "source": [
    "m_arch<-garchFit(~garch(2,0), ts.log_returns, trace=FALSE, cond.dist=\"std\", include.delta=FALSE)"
   ]
  },
  {
   "cell_type": "code",
   "execution_count": null,
   "metadata": {},
   "outputs": [],
   "source": [
    "m_arch<-garchFit(~garch(3,0), ts.log_returns, trace=FALSE, cond.dist=\"std\", include.delta=FALSE)"
   ]
  },
  {
   "cell_type": "code",
   "execution_count": null,
   "metadata": {},
   "outputs": [],
   "source": [
    "m_arch<-garchFit(~garch(4,0), ts.log_returns, trace=FALSE, cond.dist=\"std\", include.delta=FALSE)"
   ]
  },
  {
   "cell_type": "code",
   "execution_count": null,
   "metadata": {},
   "outputs": [],
   "source": [
    "m_arch<-garchFit(~garch(5,0), ts.log_returns, trace=FALSE, cond.dist=\"std\", include.delta=FALSE)"
   ]
  },
  {
   "cell_type": "markdown",
   "metadata": {},
   "source": [
    "### 4.1.1 Residual Summary of the ARCH model"
   ]
  },
  {
   "cell_type": "code",
   "execution_count": null,
   "metadata": {},
   "outputs": [],
   "source": [
    "summary(m_arch)"
   ]
  },
  {
   "cell_type": "markdown",
   "metadata": {},
   "source": [
    "## 4.2 GARCH Model"
   ]
  },
  {
   "cell_type": "code",
   "execution_count": null,
   "metadata": {},
   "outputs": [],
   "source": [
    "m_garch<-garchFit(~garch(1,1), ts.log_returns, trace=FALSE, cond.dist=\"std\", include.delta=FALSE)"
   ]
  },
  {
   "cell_type": "code",
   "execution_count": null,
   "metadata": {},
   "outputs": [],
   "source": [
    "m_garch<-garchFit(~garch(1,2), ts.log_returns, trace=FALSE, cond.dist=\"std\", include.delta=FALSE)"
   ]
  },
  {
   "cell_type": "code",
   "execution_count": null,
   "metadata": {},
   "outputs": [],
   "source": [
    "m_garch<-garchFit(~garch(1,3), ts.log_returns, trace=FALSE, cond.dist=\"std\", include.delta=FALSE)"
   ]
  },
  {
   "cell_type": "code",
   "execution_count": null,
   "metadata": {},
   "outputs": [],
   "source": [
    "m_garch<-garchFit(~garch(1,4), ts.log_returns, trace=FALSE, cond.dist=\"std\", include.delta=FALSE)"
   ]
  },
  {
   "cell_type": "code",
   "execution_count": null,
   "metadata": {},
   "outputs": [],
   "source": [
    "m_garch<-garchFit(~garch(2,1), ts.log_returns, trace=FALSE, cond.dist=\"std\", include.delta=FALSE)"
   ]
  },
  {
   "cell_type": "code",
   "execution_count": null,
   "metadata": {},
   "outputs": [],
   "source": [
    "m_garch<-garchFit(~garch(2,2), ts.log_returns, trace=FALSE, cond.dist=\"std\", include.delta=FALSE)"
   ]
  },
  {
   "cell_type": "code",
   "execution_count": null,
   "metadata": {},
   "outputs": [],
   "source": [
    "m_garch<-garchFit(~garch(2,3), ts.log_returns, trace=FALSE, cond.dist=\"std\", include.delta=FALSE)"
   ]
  },
  {
   "cell_type": "code",
   "execution_count": null,
   "metadata": {},
   "outputs": [],
   "source": [
    "m_garch<-garchFit(~garch(2,4), ts.log_returns, trace=FALSE, cond.dist=\"std\", include.delta=FALSE)"
   ]
  },
  {
   "cell_type": "code",
   "execution_count": null,
   "metadata": {},
   "outputs": [],
   "source": [
    "m_garch<-garchFit(~garch(3,1), ts.log_returns, trace=FALSE, cond.dist=\"std\", include.delta=FALSE)"
   ]
  },
  {
   "cell_type": "code",
   "execution_count": null,
   "metadata": {},
   "outputs": [],
   "source": [
    "m_garch<-garchFit(~garch(3,2), ts.log_returns, trace=FALSE, cond.dist=\"std\", include.delta=FALSE)"
   ]
  },
  {
   "cell_type": "code",
   "execution_count": null,
   "metadata": {},
   "outputs": [],
   "source": [
    "m_garch<-garchFit(~garch(3,3), ts.log_returns, trace=FALSE, cond.dist=\"std\", include.delta=FALSE)"
   ]
  },
  {
   "cell_type": "code",
   "execution_count": null,
   "metadata": {},
   "outputs": [],
   "source": [
    "m_garch<-garchFit(~garch(3,4), ts.log_returns, trace=FALSE, cond.dist=\"std\", include.delta=FALSE)"
   ]
  },
  {
   "cell_type": "code",
   "execution_count": null,
   "metadata": {},
   "outputs": [],
   "source": [
    "m_garch<-garchFit(~garch(4,1), ts.log_returns, trace=FALSE, cond.dist=\"std\", include.delta=FALSE)"
   ]
  },
  {
   "cell_type": "code",
   "execution_count": null,
   "metadata": {},
   "outputs": [],
   "source": [
    "m_garch<-garchFit(~garch(4,2), ts.log_returns, trace=FALSE, cond.dist=\"std\", include.delta=FALSE)"
   ]
  },
  {
   "cell_type": "code",
   "execution_count": null,
   "metadata": {},
   "outputs": [],
   "source": [
    "m_garch<-garchFit(~garch(4,3), ts.log_returns, trace=FALSE, cond.dist=\"std\", include.delta=FALSE)"
   ]
  },
  {
   "cell_type": "code",
   "execution_count": null,
   "metadata": {},
   "outputs": [],
   "source": [
    "m_garch<-garchFit(~garch(4,4), ts.log_returns, trace=FALSE, cond.dist=\"std\", include.delta=FALSE)"
   ]
  },
  {
   "cell_type": "markdown",
   "metadata": {},
   "source": [
    "### 4.2.1 Residual Summary of the GARCH model"
   ]
  },
  {
   "cell_type": "code",
   "execution_count": null,
   "metadata": {},
   "outputs": [],
   "source": [
    "summary(m_garch)"
   ]
  },
  {
   "cell_type": "markdown",
   "metadata": {},
   "source": [
    "## 4.3 APARCH Model"
   ]
  },
  {
   "cell_type": "code",
   "execution_count": null,
   "metadata": {},
   "outputs": [],
   "source": [
    "m_aparch<-garchFit(~aparch(1,0), ts.log_returns, trace=FALSE, cond.dist=\"std\", include.delta=TRUE)"
   ]
  },
  {
   "cell_type": "code",
   "execution_count": null,
   "metadata": {},
   "outputs": [],
   "source": [
    "m_aparch<-garchFit(~aparch(2,0), ts.log_returns, trace=FALSE, cond.dist=\"std\", include.delta=TRUE)"
   ]
  },
  {
   "cell_type": "code",
   "execution_count": null,
   "metadata": {},
   "outputs": [],
   "source": [
    "m_aparch<-garchFit(~aparch(3,0), ts.log_returns, trace=FALSE, cond.dist=\"std\", include.delta=TRUE)"
   ]
  },
  {
   "cell_type": "code",
   "execution_count": null,
   "metadata": {},
   "outputs": [],
   "source": [
    "m_aparch<-garchFit(~aparch(4,0), ts.log_returns, trace=FALSE, cond.dist=\"std\", include.delta=TRUE)"
   ]
  },
  {
   "cell_type": "code",
   "execution_count": null,
   "metadata": {},
   "outputs": [],
   "source": [
    "m_aparch<-garchFit(~aparch(1,1), ts.log_returns, trace=FALSE, cond.dist=\"std\", include.delta=TRUE)"
   ]
  },
  {
   "cell_type": "code",
   "execution_count": null,
   "metadata": {},
   "outputs": [],
   "source": [
    "m_aparch<-garchFit(~aparch(1,2), ts.log_returns, trace=FALSE, cond.dist=\"std\", include.delta=TRUE)"
   ]
  },
  {
   "cell_type": "code",
   "execution_count": null,
   "metadata": {},
   "outputs": [],
   "source": [
    "m_aparch<-garchFit(~aparch(1,3), ts.log_returns, trace=FALSE, cond.dist=\"std\", include.delta=TRUE)"
   ]
  },
  {
   "cell_type": "code",
   "execution_count": null,
   "metadata": {},
   "outputs": [],
   "source": [
    "m_aparch<-garchFit(~aparch(1,4), ts.log_returns, trace=FALSE, cond.dist=\"std\", include.delta=TRUE)"
   ]
  },
  {
   "cell_type": "code",
   "execution_count": null,
   "metadata": {},
   "outputs": [],
   "source": [
    "m_aparch<-garchFit(~aparch(2,1), ts.log_returns, trace=FALSE, cond.dist=\"std\", include.delta=TRUE)"
   ]
  },
  {
   "cell_type": "code",
   "execution_count": null,
   "metadata": {},
   "outputs": [],
   "source": [
    "m_aparch<-garchFit(~aparch(2,2), ts.log_returns, trace=FALSE, cond.dist=\"std\", include.delta=TRUE)"
   ]
  },
  {
   "cell_type": "code",
   "execution_count": null,
   "metadata": {},
   "outputs": [],
   "source": [
    "m_aparch<-garchFit(~aparch(2,3), ts.log_returns, trace=FALSE, cond.dist=\"std\", include.delta=TRUE)"
   ]
  },
  {
   "cell_type": "code",
   "execution_count": null,
   "metadata": {},
   "outputs": [],
   "source": [
    "m_aparch<-garchFit(~aparch(2,4), ts.log_returns, trace=FALSE, cond.dist=\"std\", include.delta=TRUE)"
   ]
  },
  {
   "cell_type": "markdown",
   "metadata": {},
   "source": [
    "### 4.3.1 Residual Summary of the APARCH model"
   ]
  },
  {
   "cell_type": "code",
   "execution_count": null,
   "metadata": {},
   "outputs": [],
   "source": [
    "summary(m_aparch)"
   ]
  },
  {
   "cell_type": "markdown",
   "metadata": {},
   "source": [
    "## 4.4 Diagnostic of the chosen model residuals"
   ]
  },
  {
   "cell_type": "code",
   "execution_count": null,
   "metadata": {},
   "outputs": [],
   "source": [
    "fit<-garchFit(~aparch(1,1), ts.log_returns, trace=FALSE, cond.dist=\"std\", include.delta=TRUE)"
   ]
  },
  {
   "cell_type": "code",
   "execution_count": null,
   "metadata": {},
   "outputs": [],
   "source": [
    "resid=residuals(fit)"
   ]
  },
  {
   "cell_type": "code",
   "execution_count": null,
   "metadata": {},
   "outputs": [],
   "source": [
    "summary(resid)"
   ]
  },
  {
   "cell_type": "markdown",
   "metadata": {},
   "source": [
    "- Plot Function: https://cran.r-project.org/web/packages/fGarch/fGarch.pdf"
   ]
  },
  {
   "cell_type": "code",
   "execution_count": null,
   "metadata": {},
   "outputs": [],
   "source": [
    "plot(fit, which=11, main=\".\")"
   ]
  },
  {
   "cell_type": "code",
   "execution_count": null,
   "metadata": {
    "scrolled": false
   },
   "outputs": [],
   "source": [
    "qqPlot(resid)"
   ]
  }
 ],
 "metadata": {
  "kernelspec": {
   "display_name": "R",
   "language": "R",
   "name": "ir"
  },
  "language_info": {
   "codemirror_mode": "r",
   "file_extension": ".r",
   "mimetype": "text/x-r-source",
   "name": "R",
   "pygments_lexer": "r",
   "version": "3.6.1"
  }
 },
 "nbformat": 4,
 "nbformat_minor": 4
}
